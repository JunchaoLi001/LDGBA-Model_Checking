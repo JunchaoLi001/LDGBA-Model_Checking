{
 "cells": [
  {
   "cell_type": "code",
   "execution_count": 1,
   "id": "2c8a70c7",
   "metadata": {},
   "outputs": [
    {
     "name": "stdout",
     "output_type": "stream",
     "text": [
      "Number of Omega-automaton states (including the trap state): 4\n"
     ]
    },
    {
     "data": {
      "text/plain": [
       "<csrl.oaa.oaa at 0x192a553a340>"
      ]
     },
     "metadata": {},
     "output_type": "display_data"
    },
    {
     "name": "stdout",
     "output_type": "stream",
     "text": [
      "Initial state: 0\n",
      "Transition function: [\n",
      "  {(): 0, ('a',): 0, ('c',): 0, ('p',): 1, ('f',): 0, ('s',): 3, ('a', 'c'): 3, ('a', 'p'): 3, ('a', 's'): 3, ('c', 'p'): 3, ('c', 's'): 3, ('p', 's'): 3, ('a', 'c', 'p'): 3, ('a', 'c', 's'): 3, ('a', 'p', 's'): 3, ('c', 'p', 's'): 3, ('a', 'c', 'p', 's'): 3},\n",
      "  {(): 1, ('a',): 2, ('c',): 2, ('p',): 3, ('f',): 1, ('s',): 3, ('a', 'c'): 3, ('a', 'p'): 3, ('a', 's'): 3, ('c', 'p'): 3, ('c', 's'): 3, ('p', 's'): 3, ('a', 'c', 'p'): 3, ('a', 'c', 's'): 3, ('a', 'p', 's'): 3, ('c', 'p', 's'): 3, ('a', 'c', 'p', 's'): 3},\n",
      "  {(): 2, ('a',): 3, ('c',): 3, ('p',): 1, ('f',): 0, ('s',): 3, ('a', 'c'): 3, ('a', 'p'): 3, ('a', 's'): 3, ('c', 'p'): 3, ('c', 's'): 3, ('p', 's'): 3, ('a', 'c', 'p'): 3, ('a', 'c', 's'): 3, ('a', 'p', 's'): 3, ('c', 'p', 's'): 3, ('a', 'c', 'p', 's'): 3},\n",
      "  {(): 3, ('a',): 3, ('c',): 3, ('p',): 3, ('f',): 3, ('s',): 3, ('a', 'c'): 3, ('a', 'p'): 3, ('a', 's'): 3, ('c', 'p'): 3, ('c', 's'): 3, ('p', 's'): 3, ('a', 'c', 'p'): 3, ('a', 'c', 's'): 3, ('a', 'p', 's'): 3, ('c', 'p', 's'): 3, ('a', 'c', 'p', 's'): 3}\n",
      "]\n",
      "Acceptance: [\n",
      "  {(): [None], ('a',): [None], ('c',): [None], ('p',): [None], ('f',): [None], ('s',): [None], ('a', 'c'): [None], ('a', 'p'): [None], ('a', 's'): [None], ('c', 'p'): [None], ('c', 's'): [None], ('p', 's'): [None], ('a', 'c', 'p'): [None], ('a', 'c', 's'): [None], ('a', 'p', 's'): [None], ('c', 'p', 's'): [None], ('a', 'c', 'p', 's'): [None]},\n",
      "  {(): [None], ('a',): [None], ('c',): [None], ('p',): [None], ('f',): [None], ('s',): [None], ('a', 'c'): [None], ('a', 'p'): [None], ('a', 's'): [None], ('c', 'p'): [None], ('c', 's'): [None], ('p', 's'): [None], ('a', 'c', 'p'): [None], ('a', 'c', 's'): [None], ('a', 'p', 's'): [None], ('c', 'p', 's'): [None], ('a', 'c', 'p', 's'): [None]},\n",
      "  {(): [None], ('a',): [None], ('c',): [None], ('p',): [None], ('f',): [True], ('s',): [None], ('a', 'c'): [None], ('a', 'p'): [None], ('a', 's'): [None], ('c', 'p'): [None], ('c', 's'): [None], ('p', 's'): [None], ('a', 'c', 'p'): [None], ('a', 'c', 's'): [None], ('a', 'p', 's'): [None], ('c', 'p', 's'): [None], ('a', 'c', 'p', 's'): [None]},\n",
      "  {(): [None], ('a',): [None], ('c',): [None], ('p',): [None], ('f',): [None], ('s',): [None], ('a', 'c'): [None], ('a', 'p'): [None], ('a', 's'): [None], ('c', 'p'): [None], ('c', 's'): [None], ('p', 's'): [None], ('a', 'c', 'p'): [None], ('a', 'c', 's'): [None], ('a', 'p', 's'): [None], ('c', 'p', 's'): [None], ('a', 'c', 'p', 's'): [None]}\n",
      "]\n"
     ]
    },
    {
     "data": {
      "text/plain": [
       "(None, None, None)"
      ]
     },
     "execution_count": 1,
     "metadata": {},
     "output_type": "execute_result"
    }
   ],
   "source": [
    "### import manually defined automata\n",
    "%matplotlib inline\n",
    "from csrl.pomdp import GridPOMDP\n",
    "from csrl.oaa import oaa\n",
    "from csrl import ControlSynthesis\n",
    "import numpy as np \n",
    "\n",
    "oa=oaa()\n",
    "\n",
    "print('Number of Omega-automaton states (including the trap state):',oa.shape[1])\n",
    "display(oa)\n",
    "\n",
    "print('Initial state:',oa.q0)\n",
    "print('Transition function: ['),print(*['  '+str(t) for t in oa.delta],sep=',\\n'),print(']')\n",
    "print('Acceptance: ['),print(*['  '+str(t) for t in oa.acc],sep=',\\n'),print(']')"
   ]
  },
  {
   "cell_type": "code",
   "execution_count": 2,
   "id": "9b5f7069",
   "metadata": {},
   "outputs": [
    {
     "name": "stderr",
     "output_type": "stream",
     "text": [
      "C:\\Users\\JUNCHA~1\\AppData\\Local\\Temp/ipykernel_30348/1348113765.py:24: DeprecationWarning: `np.object` is a deprecated alias for the builtin `object`. To silence this warning, use `object` by itself. Doing this will not modify any behavior and is safe. \n",
      "Deprecated in NumPy 1.20; for more details and guidance: https://numpy.org/devdocs/release/1.20.0-notes.html#deprecations\n",
      "  ],dtype=np.object)\n"
     ]
    }
   ],
   "source": [
    "###### office scenario\n",
    "\n",
    "# POMDP Description\n",
    "shape = (4,4) # Row, Col\n",
    "# E: Empty, T: Trap, B: Obstacle\n",
    "structure = np.array([\n",
    "['E',  'E',  'E',  'E'],\n",
    "['E',  'E',  'E',  'E'],\n",
    "['E',  'E',  'E',  'E'],\n",
    "['E',  'E',  'E',  'E']\n",
    "])\n",
    "\n",
    "# Labels of the states\n",
    "# 'a'= office room 'a'\n",
    "# 'c'= office room 'c'\n",
    "# 's'= storage room\n",
    "# 'p'= printer's room\n",
    "# 'f'= supply room\n",
    "label = np.array([\n",
    "[('a',),       (),       (),       ()],\n",
    "[(),       (),       ('s',),       ('f',)], # remove \" 'f', \" for Case 1; don't forget to change LDGBA Automaton in 'oaa.py'.\n",
    "[('c',),       (),       ('p',),       ()],\n",
    "[(),       (),       (),       ()]\n",
    "],dtype=np.object)\n",
    "\n",
    "grid_pomdp = GridPOMDP(shape=shape,structure=structure,label=label) \n",
    "\n",
    "# Construct the product MDP\n",
    "csrl = ControlSynthesis(grid_pomdp,oa)"
   ]
  },
  {
   "cell_type": "code",
   "execution_count": 3,
   "id": "c95b6b76",
   "metadata": {},
   "outputs": [
    {
     "data": {
      "text/plain": [
       "array([[[[ 0.,  0.,  0.,  0.],\n",
       "         [ 0.,  0.,  0.,  0.],\n",
       "         [ 0.,  0.,  0.,  0.],\n",
       "         [ 0.,  0.,  0.,  0.]],\n",
       "\n",
       "        [[ 0.,  0.,  0.,  0.],\n",
       "         [ 0.,  0.,  0.,  0.],\n",
       "         [ 0.,  0.,  0.,  0.],\n",
       "         [ 0.,  0.,  0.,  0.]],\n",
       "\n",
       "        [[ 0.,  0.,  0.,  0.],\n",
       "         [ 0.,  0.,  0., 10.],\n",
       "         [ 0.,  0.,  0.,  0.],\n",
       "         [ 0.,  0.,  0.,  0.]],\n",
       "\n",
       "        [[ 0.,  0.,  0.,  0.],\n",
       "         [ 0.,  0.,  0.,  0.],\n",
       "         [ 0.,  0.,  0.,  0.],\n",
       "         [ 0.,  0.,  0.,  0.]]]])"
      ]
     },
     "execution_count": 3,
     "metadata": {},
     "output_type": "execute_result"
    }
   ],
   "source": [
    "csrl.reward"
   ]
  },
  {
   "cell_type": "code",
   "execution_count": 4,
   "id": "25f2cc2d",
   "metadata": {},
   "outputs": [],
   "source": [
    "np.save('r_matrix.npy', csrl.R_matrix)"
   ]
  },
  {
   "cell_type": "code",
   "execution_count": 5,
   "id": "222ab845",
   "metadata": {},
   "outputs": [],
   "source": [
    "np.save('t_matrix.npy', csrl.T_matrix)"
   ]
  },
  {
   "cell_type": "code",
   "execution_count": 6,
   "id": "2676f0e1",
   "metadata": {},
   "outputs": [],
   "source": [
    "np.save('o_matrix.npy', csrl.O_matrix)"
   ]
  },
  {
   "cell_type": "code",
   "execution_count": null,
   "id": "9b5971ee",
   "metadata": {},
   "outputs": [],
   "source": []
  }
 ],
 "metadata": {
  "kernelspec": {
   "display_name": "Python 3 (ipykernel)",
   "language": "python",
   "name": "python3"
  },
  "language_info": {
   "codemirror_mode": {
    "name": "ipython",
    "version": 3
   },
   "file_extension": ".py",
   "mimetype": "text/x-python",
   "name": "python",
   "nbconvert_exporter": "python",
   "pygments_lexer": "ipython3",
   "version": "3.9.7"
  }
 },
 "nbformat": 4,
 "nbformat_minor": 5
}
