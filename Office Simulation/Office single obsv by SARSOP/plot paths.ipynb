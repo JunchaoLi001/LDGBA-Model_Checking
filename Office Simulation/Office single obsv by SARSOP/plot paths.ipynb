{
 "cells": [
  {
   "cell_type": "code",
   "execution_count": 1,
   "id": "564e49fc",
   "metadata": {},
   "outputs": [],
   "source": [
    "import numpy as np"
   ]
  },
  {
   "cell_type": "code",
   "execution_count": 2,
   "id": "6b336967",
   "metadata": {},
   "outputs": [],
   "source": [
    "path_origin = np.load('the_final_path.npy')"
   ]
  },
  {
   "cell_type": "code",
   "execution_count": 3,
   "id": "86b42647",
   "metadata": {},
   "outputs": [
    {
     "data": {
      "text/plain": [
       "array([ 1.,  1.,  2.,  1.,  2.,  6., 10.,  6., 10., 14., 10., 14., 15.,\n",
       "       16., 12., 16., 12., 11., 28., 32., 31., 30., 26., 22., 18., 17.,\n",
       "       34., 35., 36., 35., 36., 35., 36., 40.,  4.,  3.,  2.,  6., 10.,\n",
       "       14., 15., 16., 12., 11., 28., 32., 31., 30., 26., 22., 26., 22.,\n",
       "       18., 17., 34., 35., 36., 40.,  4.,  3.,  2.,  6., 10., 14., 13.,\n",
       "       14., 15., 16., 12., 11., 28., 32., 31., 30., 31., 30., 26., 22.,\n",
       "       18., 17., 34., 35., 36., 40.,  4.,  3.,  2.,  6.,  2.,  6., 10.,\n",
       "       14., 15., 16., 12., 11., 28., 27., 59., 59., 59., 59., 59., 59.,\n",
       "       59., 60., 59., 59., 59., 59., 59., 59., 59., 59., 59., 59., 59.,\n",
       "       59., 59., 59., 59., 59., 59., 59., 59., 59., 59., 59., 59., 59.,\n",
       "       59., 59., 60., 59., 59., 59., 59., 59., 60., 59., 59., 59., 59.,\n",
       "       59., 59., 59., 59., 59., 59., 59.])"
      ]
     },
     "execution_count": 3,
     "metadata": {},
     "output_type": "execute_result"
    }
   ],
   "source": [
    "path_origin"
   ]
  },
  {
   "cell_type": "code",
   "execution_count": 4,
   "id": "7c83a04a",
   "metadata": {},
   "outputs": [],
   "source": [
    "path = path_origin"
   ]
  },
  {
   "cell_type": "code",
   "execution_count": 5,
   "id": "018a6a64",
   "metadata": {},
   "outputs": [],
   "source": [
    "# office Scenario\n",
    "import pylab as pl\n",
    "from matplotlib.collections import LineCollection\n",
    "\n",
    "size_x = 4\n",
    "size_y = 4"
   ]
  },
  {
   "cell_type": "code",
   "execution_count": 16,
   "id": "b6eb2388",
   "metadata": {
    "scrolled": false
   },
   "outputs": [
    {
     "name": "stdout",
     "output_type": "stream",
     "text": [
      "1.0\n",
      "1.0\n",
      "2.0\n",
      "1.0\n",
      "2.0\n",
      "6.0\n",
      "10.0\n",
      "6.0\n",
      "10.0\n",
      "14.0\n",
      "10.0\n",
      "14.0\n",
      "15.0\n",
      "16.0\n",
      "12.0\n",
      "16.0\n",
      "12.0\n",
      "11.0\n"
     ]
    },
    {
     "data": {
      "image/png": "[encoded data removed]",
      "text/plain": [
       "<Figure size 432x432 with 1 Axes>"
      ]
     },
     "metadata": {
      "needs_background": "light"
     },
     "output_type": "display_data"
    }
   ],
   "source": [
    "### plot the path on 'q0'.\n",
    "\n",
    "x = np.linspace(0,size_x,size_x+1)\n",
    "y = np.linspace(0,size_y,size_y+1) \n",
    "\n",
    "pl.figure(figsize=(6,6))\n",
    "\n",
    "hlines = np.column_stack(np.broadcast_arrays(x[0], y, x[-1], y))\n",
    "vlines = np.column_stack(np.broadcast_arrays(x, y[0], x, y[-1]))\n",
    "lines = np.concatenate([hlines, vlines]).reshape(-1, 2, 2)\n",
    "line_collection = LineCollection(lines, color=\"black\", linewidths=1)\n",
    "ax = pl.gca()\n",
    "ax.add_collection(line_collection)\n",
    "ax.set_xlim(int(x[0]), int(x[-1]))\n",
    "ax.set_ylim(int(y[0]), int(y[-1]))\n",
    "# backgroud color\n",
    "ax.add_patch(pl.Rectangle((0, 0), size_x, size_y, fill=True, color='green', alpha=.1))\n",
    "\n",
    "# plot the supply room\n",
    "b_start_x = 3\n",
    "b_start_y = 2\n",
    "b_size_x = b_size_y = 1\n",
    "ax.add_patch(pl.Rectangle((b_start_x, b_start_y), b_size_x, b_size_y, fill=True, color='orange', alpha=.8))\n",
    "\n",
    "# plot the printer's room\n",
    "b_start_x = 2\n",
    "b_start_y = 1\n",
    "b_size_x = b_size_y = 1\n",
    "ax.add_patch(pl.Rectangle((b_start_x, b_start_y), b_size_x, b_size_y, fill=True, color='pink', alpha=.8))\n",
    "\n",
    "# plot the storage room\n",
    "b_start_x = 2\n",
    "b_start_y = 2\n",
    "b_size_x = b_size_y = 1\n",
    "ax.add_patch(pl.Rectangle((b_start_x, b_start_y), b_size_x, b_size_y, fill=True, color='black', alpha=.5))\n",
    "\n",
    "# plot the 'a'\n",
    "b_start_x = 0\n",
    "b_start_y = 3\n",
    "b_size_x = b_size_y = 1\n",
    "ax.add_patch(pl.Rectangle((b_start_x, b_start_y), b_size_x, b_size_y, fill=True, color='blue', alpha=.5))\n",
    "\n",
    "# plot the 'c'\n",
    "b_start_x = 0\n",
    "b_start_y = 1\n",
    "b_size_x = b_size_y = 1\n",
    "ax.add_patch(pl.Rectangle((b_start_x, b_start_y), b_size_x, b_size_y, fill=True, color='green', alpha=.5))\n",
    "\n",
    "for i in range(len(path)):\n",
    "    if path[i]<=size_x*size_y:\n",
    "        print(path[i])\n",
    "        state_idx = path[i]\n",
    "        ## convert state index in Julia to 'x,y' coordinates in python\n",
    "        if state_idx%size_x==0:\n",
    "            coord_x = size_x-1    # x_coordinate\n",
    "            #coord_y = int(size_y - (state_idx-state_idx%size_x)/size_x) # y_coordinate\n",
    "            coord_y = int(size_y - (state_idx/size_y)) # y_coordinate\n",
    "        else:\n",
    "            coord_x = state_idx%size_x-1    # x_coordinate\n",
    "            coord_y = int(size_y - 1 - (state_idx-state_idx%size_x)/size_x) # y_coordinate\n",
    "        ax.add_patch(pl.Circle((coord_x+0.5, coord_y+0.5), 0.2, fill=True, color='red', alpha=.4))\n",
    "        if i==0:\n",
    "            # start point\n",
    "            ax.add_patch(pl.Circle((coord_x+0.5, coord_y+0.5), 0.4, fill=True, color='purple', alpha=.9))\n",
    "    else:\n",
    "        break"
   ]
  },
  {
   "cell_type": "code",
   "execution_count": 17,
   "id": "1cf69383",
   "metadata": {
    "scrolled": false
   },
   "outputs": [
    {
     "name": "stdout",
     "output_type": "stream",
     "text": [
      "28.0\n",
      "32.0\n",
      "31.0\n",
      "30.0\n",
      "26.0\n",
      "22.0\n",
      "18.0\n",
      "17.0\n"
     ]
    },
    {
     "data": {
      "image/png": "[encoded data removed]",
      "text/plain": [
       "<Figure size 432x432 with 1 Axes>"
      ]
     },
     "metadata": {
      "needs_background": "light"
     },
     "output_type": "display_data"
    }
   ],
   "source": [
    "### plot the path on 'q1'.\n",
    "\n",
    "x = np.linspace(0,size_x,size_x+1)\n",
    "y = np.linspace(0,size_y,size_y+1) \n",
    "\n",
    "pl.figure(figsize=(6,6))\n",
    "\n",
    "hlines = np.column_stack(np.broadcast_arrays(x[0], y, x[-1], y))\n",
    "vlines = np.column_stack(np.broadcast_arrays(x, y[0], x, y[-1]))\n",
    "lines = np.concatenate([hlines, vlines]).reshape(-1, 2, 2)\n",
    "line_collection = LineCollection(lines, color=\"black\", linewidths=1)\n",
    "ax = pl.gca()\n",
    "ax.add_collection(line_collection)\n",
    "ax.set_xlim(x[0], x[-1])\n",
    "ax.set_ylim(y[0], y[-1])\n",
    "# backgroud color\n",
    "ax.add_patch(pl.Rectangle((0, 0), size_x, size_y, fill=True, color='green', alpha=.1))\n",
    "\n",
    "# plot the supply room\n",
    "b_start_x = 3\n",
    "b_start_y = 2\n",
    "b_size_x = b_size_y = 1\n",
    "ax.add_patch(pl.Rectangle((b_start_x, b_start_y), b_size_x, b_size_y, fill=True, color='orange', alpha=.8))\n",
    "\n",
    "# plot the printer's room\n",
    "b_start_x = 2\n",
    "b_start_y = 1\n",
    "b_size_x = b_size_y = 1\n",
    "ax.add_patch(pl.Rectangle((b_start_x, b_start_y), b_size_x, b_size_y, fill=True, color='pink', alpha=.8))\n",
    "\n",
    "# plot the storage room\n",
    "b_start_x = 2\n",
    "b_start_y = 2\n",
    "b_size_x = b_size_y = 1\n",
    "ax.add_patch(pl.Rectangle((b_start_x, b_start_y), b_size_x, b_size_y, fill=True, color='black', alpha=.5))\n",
    "\n",
    "# plot the 'a'\n",
    "b_start_x = 0\n",
    "b_start_y = 3\n",
    "b_size_x = b_size_y = 1\n",
    "ax.add_patch(pl.Rectangle((b_start_x, b_start_y), b_size_x, b_size_y, fill=True, color='blue', alpha=.5))\n",
    "\n",
    "# plot the 'c'\n",
    "b_start_x = 0\n",
    "b_start_y = 1\n",
    "b_size_x = b_size_y = 1\n",
    "ax.add_patch(pl.Rectangle((b_start_x, b_start_y), b_size_x, b_size_y, fill=True, color='green', alpha=.5))\n",
    "\n",
    "ii=i\n",
    "for i in range(ii, len(path)):\n",
    "    if 2*(size_x*size_y)>=path[i] and path[i]>=(size_x*size_y):\n",
    "        print(path[i])\n",
    "        state_idx = path[i]-(size_x*size_y)\n",
    "        ## convert state index in Julia to 'x,y' coordinates in python\n",
    "        if state_idx%size_x==0:\n",
    "            coord_x = size_x-1    # x_coordinate\n",
    "            coord_y = int(size_y - (state_idx/size_y)) # y_coordinate\n",
    "        else:\n",
    "            coord_x = state_idx%size_x-1    # x_coordinate\n",
    "            coord_y = int(size_y - 1 - (state_idx-state_idx%size_x)/size_x) # y_coordinate\n",
    "        ax.add_patch(pl.Circle((coord_x+0.5, coord_y+0.5), 0.2, fill=True, color='red', alpha=.4))\n",
    "    else:\n",
    "        break\n"
   ]
  },
  {
   "cell_type": "code",
   "execution_count": 18,
   "id": "155d102a",
   "metadata": {},
   "outputs": [
    {
     "name": "stdout",
     "output_type": "stream",
     "text": [
      "34.0\n",
      "35.0\n",
      "36.0\n",
      "35.0\n",
      "36.0\n",
      "35.0\n",
      "36.0\n",
      "40.0\n"
     ]
    },
    {
     "data": {
      "image/png": "[encoded data removed]",
      "text/plain": [
       "<Figure size 432x432 with 1 Axes>"
      ]
     },
     "metadata": {
      "needs_background": "light"
     },
     "output_type": "display_data"
    }
   ],
   "source": [
    "### use it for Case 2 ###\n",
    "\n",
    "### plot the path on 'q2'.\n",
    "\n",
    "x = np.linspace(0,size_x,size_x+1)\n",
    "y = np.linspace(0,size_y,size_y+1) \n",
    "\n",
    "pl.figure(figsize=(6,6))\n",
    "\n",
    "hlines = np.column_stack(np.broadcast_arrays(x[0], y, x[-1], y))\n",
    "vlines = np.column_stack(np.broadcast_arrays(x, y[0], x, y[-1]))\n",
    "lines = np.concatenate([hlines, vlines]).reshape(-1, 2, 2)\n",
    "line_collection = LineCollection(lines, color=\"black\", linewidths=1)\n",
    "ax = pl.gca()\n",
    "ax.add_collection(line_collection)\n",
    "ax.set_xlim(x[0], x[-1])\n",
    "ax.set_ylim(y[0], y[-1])\n",
    "# backgroud color\n",
    "ax.add_patch(pl.Rectangle((0, 0), size_x, size_y, fill=True, color='green', alpha=.1))\n",
    "\n",
    "# plot the supply room\n",
    "b_start_x = 3\n",
    "b_start_y = 2\n",
    "b_size_x = b_size_y = 1\n",
    "ax.add_patch(pl.Rectangle((b_start_x, b_start_y), b_size_x, b_size_y, fill=True, color='orange', alpha=.8))\n",
    "\n",
    "# plot the printer's room\n",
    "b_start_x = 2\n",
    "b_start_y = 1\n",
    "b_size_x = b_size_y = 1\n",
    "ax.add_patch(pl.Rectangle((b_start_x, b_start_y), b_size_x, b_size_y, fill=True, color='pink', alpha=.8))\n",
    "\n",
    "# plot the storage room\n",
    "b_start_x = 2\n",
    "b_start_y = 2\n",
    "b_size_x = b_size_y = 1\n",
    "ax.add_patch(pl.Rectangle((b_start_x, b_start_y), b_size_x, b_size_y, fill=True, color='black', alpha=.5))\n",
    "\n",
    "# plot the 'a'\n",
    "b_start_x = 0\n",
    "b_start_y = 3\n",
    "b_size_x = b_size_y = 1\n",
    "ax.add_patch(pl.Rectangle((b_start_x, b_start_y), b_size_x, b_size_y, fill=True, color='blue', alpha=.5))\n",
    "\n",
    "# plot the 'c'\n",
    "b_start_x = 0\n",
    "b_start_y = 1\n",
    "b_size_x = b_size_y = 1\n",
    "ax.add_patch(pl.Rectangle((b_start_x, b_start_y), b_size_x, b_size_y, fill=True, color='green', alpha=.5))\n",
    "\n",
    "ii=i\n",
    "for i in range(ii, len(path)):\n",
    "    if 3*(size_x*size_y)>=path[i] and path[i]>=2*(size_x*size_y):\n",
    "        print(path[i])\n",
    "        state_idx = path[i]-2*(size_x*size_y)\n",
    "        ## convert state index in Julia to 'x,y' coordinates in python\n",
    "        if state_idx%size_x==0:\n",
    "            coord_x = size_x-1    # x_coordinate\n",
    "            coord_y = int(size_y - (state_idx/size_y)) # y_coordinate\n",
    "        else:\n",
    "            coord_x = state_idx%size_x-1    # x_coordinate\n",
    "            coord_y = int(size_y - 1 - (state_idx-state_idx%size_x)/size_x) # y_coordinate\n",
    "        ax.add_patch(pl.Circle((coord_x+0.5, coord_y+0.5), 0.2, fill=True, color='red', alpha=.4))\n",
    "    else:\n",
    "        break"
   ]
  },
  {
   "cell_type": "code",
   "execution_count": null,
   "id": "24099c17",
   "metadata": {},
   "outputs": [],
   "source": []
  }
 ],
 "metadata": {
  "kernelspec": {
   "display_name": "Python 3 (ipykernel)",
   "language": "python",
   "name": "python3"
  },
  "language_info": {
   "codemirror_mode": {
    "name": "ipython",
    "version": 3
   },
   "file_extension": ".py",
   "mimetype": "text/x-python",
   "name": "python",
   "nbconvert_exporter": "python",
   "pygments_lexer": "ipython3",
   "version": "3.9.7"
  }
 },
 "nbformat": 4,
 "nbformat_minor": 5
}
